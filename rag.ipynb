{
 "cells": [
  {
   "cell_type": "code",
   "execution_count": 1,
   "id": "8a912b58-6a41-4347-bb06-049efce31a7f",
   "metadata": {},
   "outputs": [],
   "source": [
    "import os\n",
    "from dotenv import load_dotenv, find_dotenv\n",
    "\n",
    "load_dotenv(find_dotenv())\n",
    "\n",
    "gemini_api_key = os.getenv(\"GEMINI_API_KEY\")\n",
    "\n",
    "if gemini_api_key:\n",
    "    os.environ[\"GEMINI_API_KEY\"] = gemini_api_key"
   ]
  },
  {
   "cell_type": "code",
   "execution_count": 2,
   "id": "8b828895-8cc5-485a-ae03-d48136dd4c25",
   "metadata": {},
   "outputs": [],
   "source": [
    "from typing import List, Tuple, Dict\n",
    "from pypdf import PdfReader\n",
    "from tqdm import tqdm\n",
    "import os\n",
    "\n",
    "def load_pdf(file_path: str) -> Tuple[List[str], List[Dict]]:\n",
    "    \"\"\"\n",
    "    Reads text content from a PDF file, returns page texts and metadata.\n",
    "\n",
    "    Args:\n",
    "        file_path (str): Path to the PDF file.\n",
    "\n",
    "    Returns:\n",
    "        documents (List[str]): One string per page.\n",
    "        metadatas (List[Dict]): Metadata with filename + page number.\n",
    "    \"\"\"\n",
    "    reader = PdfReader(file_path)\n",
    "\n",
    "    documents = []\n",
    "    metadatas = []\n",
    "\n",
    "    for page_number, page in enumerate(\n",
    "        tqdm(reader.pages, desc=f\"Reading {os.path.basename(file_path)}\"), start=1\n",
    "    ):\n",
    "        text = page.extract_text()\n",
    "        if text and text.strip():\n",
    "            documents.append(text.strip())\n",
    "            metadatas.append({\n",
    "                \"filename\": os.path.basename(file_path),\n",
    "                \"page_number\": page_number               \n",
    "            })\n",
    "\n",
    "    return documents, metadatas\n"
   ]
  },
  {
   "cell_type": "markdown",
   "id": "1e39f74a-3323-44aa-9a5e-c9ddcc2f2ef4",
   "metadata": {},
   "source": [
    "# Loading data to vectorstore"
   ]
  },
  {
   "cell_type": "code",
   "execution_count": 3,
   "id": "b4281bf8-70c8-4b0a-808a-992379650c00",
   "metadata": {},
   "outputs": [],
   "source": [
    "from google import genai\n",
    "import chromadb\n",
    "from chromadb.utils.embedding_functions import GoogleGenerativeAiEmbeddingFunction\n",
    "from tqdm import tqdm\n",
    "import os\n",
    "\n",
    "def load_data(documents, metadatas, collection_name):\n",
    "    \"\"\"\n",
    "    Loads all data (embeddings) into chromadb\n",
    "\n",
    "    Args: \n",
    "    documents (list[str]): list of all documents to load\n",
    "    collection_name (str): the name of the collection where the documents will be stored\n",
    "    \"\"\"\n",
    "    \n",
    "    client = chromadb.EphemeralClient()\n",
    "\n",
    "    google_api_key = None\n",
    "    if \"GEMINI_API_KEY\" not in os.environ:\n",
    "        gapikey = input(\"Please enter your Google API Key: \")\n",
    "        google_api_key = gapikey\n",
    "    else:\n",
    "        google_api_key = os.environ[\"GEMINI_API_KEY\"]\n",
    "\n",
    "    embedding_function = GoogleGenerativeAiEmbeddingFunction(\n",
    "        api_key=google_api_key\n",
    "    )\n",
    "\n",
    "    collection = client.get_or_create_collection(\n",
    "        name=collection_name, embedding_function=embedding_function\n",
    "    )\n",
    "\n",
    "    count = collection.count()\n",
    "    print(f\"Collection already contains {count} documents\")\n",
    "    ids = [str(i) for i in range(count, count + len(documents))]\n",
    "\n",
    "    # Load the documents in batches of 100\n",
    "    for i in tqdm(\n",
    "        range(0, len(documents), 100), desc=\"Adding documents\", unit_scale=100\n",
    "    ):\n",
    "        collection.add(\n",
    "            ids=ids[i : i + 100],\n",
    "            documents=documents[i : i + 100],\n",
    "            metadatas=metadatas[i : i + 100],\n",
    "        )\n",
    "    print(f\"Documents loaded successfully\")"
   ]
  },
  {
   "cell_type": "markdown",
   "id": "7cd39246-5a6d-42fc-baa5-dd5906a5c1f1",
   "metadata": {},
   "source": [
    "# Getting DB by collection_name"
   ]
  },
  {
   "cell_type": "code",
   "execution_count": 4,
   "id": "647c720f-fa60-43be-a2ea-2f21de0301a5",
   "metadata": {},
   "outputs": [],
   "source": [
    "import chromadb\n",
    "\n",
    "def get_db(collection_name): \n",
    "    \"\"\"\n",
    "    Returns an instance of the db that match the collection_name\n",
    "    \"\"\"\n",
    "    google_api_key = None\n",
    "    if \"GEMINI_API_KEY\" not in os.environ:\n",
    "        gapikey = input(\"Please enter your Google API Key: \")\n",
    "        google_api_key = gapikey\n",
    "    else:\n",
    "        google_api_key = os.environ[\"GEMINI_API_KEY\"]\n",
    "\n",
    "    client = chromadb.EphemeralClient()\n",
    "\n",
    "    # create embedding function\n",
    "    embedding_function = GoogleGenerativeAiEmbeddingFunction(\n",
    "        api_key=google_api_key, task_type=\"RETRIEVAL_QUERY\"\n",
    "    )\n",
    "\n",
    "    db = client.get_collection(\n",
    "        name=collection_name, embedding_function=embedding_function\n",
    "    )\n",
    "    return db"
   ]
  },
  {
   "cell_type": "markdown",
   "id": "10e4652e-6e31-4f69-b60c-09b0970a760e",
   "metadata": {},
   "source": [
    "# Retrieval"
   ]
  },
  {
   "cell_type": "code",
   "execution_count": 5,
   "id": "30e4917f-6a91-46bb-90b5-8d821f02a231",
   "metadata": {},
   "outputs": [],
   "source": [
    "def get_relevant_passage(query, db, n_results):\n",
    "    results = db.query(\n",
    "        query_texts=[query], n_results=n_results, include=[\"documents\", \"metadatas\"]\n",
    "    )\n",
    "    return results['documents'][0], results['metadatas'][0]"
   ]
  },
  {
   "cell_type": "markdown",
   "id": "6bdf78ee-4ad5-494f-be38-2efabbda2fdb",
   "metadata": {},
   "source": [
    "# Generation"
   ]
  },
  {
   "cell_type": "code",
   "execution_count": 6,
   "id": "e2a385b7-b21c-437a-80dc-129eef4720fb",
   "metadata": {},
   "outputs": [],
   "source": [
    "from typing import List, Union\n",
    "\n",
    "def make_rag_prompt(query: str, relevant_passages: Union[str, List[str]]) -> str:\n",
    "    \"\"\"\n",
    "    Build a RAG prompt from query + relevant passages.\n",
    "\n",
    "    Args:\n",
    "        query (str): User query.\n",
    "        relevant_passages (str | List[str]): Either a single passage or a list of passages.\n",
    "\n",
    "    Returns:\n",
    "        str: Formatted prompt.\n",
    "    \"\"\"\n",
    "    # Normalize to list\n",
    "    if isinstance(relevant_passages, str):\n",
    "        relevant_passages = [relevant_passages]\n",
    "\n",
    "    # Clean and join passages\n",
    "    escaped_passages = []\n",
    "    for passage in relevant_passages:\n",
    "        cleaned = passage.replace(\"'\", \"\").replace('\"', \"\").replace(\"\\n\", \" \")\n",
    "        escaped_passages.append(cleaned)\n",
    "\n",
    "    combined_passages = \"\\n---\\n\".join(escaped_passages)\n",
    "\n",
    "    prompt = f\"\"\"You are a helpful and informative bot that answers questions using text from the reference passages below. \n",
    "                Your response must be direct, no need for preambule or not relevant phrases.  \n",
    "                If the passages are irrelevant to the answer, you may ignore them.\n",
    "                \n",
    "                QUESTION: '{query}'\n",
    "                PASSAGES:\n",
    "                {combined_passages}\n",
    "                \n",
    "                ANSWER:\n",
    "            \"\"\"\n",
    "    return prompt\n"
   ]
  },
  {
   "cell_type": "code",
   "execution_count": 7,
   "id": "44063a30-1385-4dda-a6a5-7ce2a88ac2a8",
   "metadata": {},
   "outputs": [],
   "source": [
    "from typing import List\n",
    "\n",
    "def get_gemini_response(query: str, context: List[str]) -> str:\n",
    "    \"\"\"\n",
    "    Queries the Gemini API to get a response to the question.\n",
    "\n",
    "    Args:\n",
    "    query (str): The original query.\n",
    "    context (List[str]): The context of the query, returned by embedding search.\n",
    "\n",
    "    Returns:\n",
    "    A response to the question.\n",
    "    \"\"\"\n",
    "    client = genai.Client()\n",
    "\n",
    "    response = client.models.generate_content(\n",
    "        model=\"gemini-2.5-flash\",\n",
    "        contents=make_rag_prompt(query, context)\n",
    "    )\n",
    "\n",
    "    return response.text"
   ]
  },
  {
   "cell_type": "markdown",
   "id": "72b1594f-ba1d-4d25-92a0-ce5e200d7b0f",
   "metadata": {},
   "source": [
    "# Bringing it all together"
   ]
  },
  {
   "cell_type": "code",
   "execution_count": 8,
   "id": "2641f15e-87d4-4fcb-845c-43004495222c",
   "metadata": {},
   "outputs": [
    {
     "name": "stderr",
     "output_type": "stream",
     "text": [
      "Reading MESUPRES_en_chiffres_MAJ.pdf: 100%|███████████████████████████████████████████████████████████████████████████████████████| 31/31 [00:04<00:00,  7.46it/s]\n",
      "d:\\Tommy space\\projects\\rag-athon\\.venv\\Lib\\site-packages\\tqdm\\auto.py:21: TqdmWarning: IProgress not found. Please update jupyter and ipywidgets. See https://ipywidgets.readthedocs.io/en/stable/user_install.html\n",
      "  from .autonotebook import tqdm as notebook_tqdm\n"
     ]
    },
    {
     "name": "stdout",
     "output_type": "stream",
     "text": [
      "Collection already contains 0 documents\n"
     ]
    },
    {
     "name": "stderr",
     "output_type": "stream",
     "text": [
      "Adding documents: 100%|█████████████████████████████████████████████████████████████████████████████████████████████████████████| 100/100 [00:16<00:00,  6.18it/s]"
     ]
    },
    {
     "name": "stdout",
     "output_type": "stream",
     "text": [
      "Documents loaded successfully\n"
     ]
    },
    {
     "name": "stderr",
     "output_type": "stream",
     "text": [
      "\n"
     ]
    }
   ],
   "source": [
    "mesupres_data, mesupres_metadata = load_pdf(file_path=\"./data/MESUPRES_en_chiffres_MAJ.pdf\")\n",
    "\n",
    "collection_name = 'rag'\n",
    "load_data(documents=mesupres_data, metadatas=mesupres_metadata, collection_name=collection_name)\n",
    "\n",
    "db = get_db(collection_name)"
   ]
  },
  {
   "cell_type": "code",
   "execution_count": 17,
   "id": "25a09723-2690-4171-b1ff-c2a83e894e88",
   "metadata": {},
   "outputs": [],
   "source": [
    "import pandas as pd\n",
    "import csv\n",
    "\n",
    "def process_questions_from_csv(db, csv_path: str, output_csv: str = 'submission_file.csv'):\n",
    "    \"\"\"\n",
    "    Reads an XLSX file containing (id, question), generates answers,\n",
    "    and writes results to a CSV file.\n",
    "\n",
    "    Args:\n",
    "        db: The Chroma/Vector database client.\n",
    "        csv_path (str): Path to the CSV file containing questions.\n",
    "        output_csv (str): Path to the output CSV file.\n",
    "    \"\"\"\n",
    "    df = pd.read_csv(csv_path)\n",
    "\n",
    "    results = []\n",
    "\n",
    "    for _, row in df.iterrows():\n",
    "        qid = row[\"id\"]\n",
    "        question = row[\"question\"]\n",
    "        \n",
    "        print(f\"Answering question {qid}: {question}\")\n",
    "\n",
    "        relevant_texts, metadatas = get_relevant_passage(question, db, n_results=1)\n",
    "        answer = get_gemini_response(question, relevant_texts)\n",
    "        print(f\"Answer: {answer}\")\n",
    "\n",
    "        results.append({\n",
    "            \"id\": qid,\n",
    "            \"question\": question,\n",
    "            \"answer\": answer,\n",
    "            \"context\": relevant_texts,\n",
    "            \"ref_page\": metadatas[0][\"page_number\"]\n",
    "        })\n",
    "\n",
    "    with open(output_csv, mode=\"w\", newline=\"\", encoding=\"utf-8\") as f:\n",
    "        writer = csv.DictWriter(f, fieldnames=[\"id\", \"question\", \"answer\", \"context\", \"ref_page\"])\n",
    "        writer.writeheader()\n",
    "        for row in results:\n",
    "            writer.writerow({\n",
    "                \"id\": row[\"id\"],\n",
    "                \"question\": row[\"question\"],\n",
    "                \"answer\": row[\"answer\"],\n",
    "                \"context\": str(row[\"context\"]),\n",
    "                \"ref_page\": str(row[\"ref_page\"])\n",
    "            })\n",
    "\n",
    "    print(f\"✅ Results written to {output_csv}\")"
   ]
  },
  {
   "cell_type": "code",
   "execution_count": 18,
   "id": "fb230fa4-4942-490e-95dc-35724ae6894b",
   "metadata": {},
   "outputs": [
    {
     "name": "stdout",
     "output_type": "stream",
     "text": [
      "Answering question 1: Quel était le nombre d'étudiants inscrits dans la région Vatovavy Fitovinany (privé) en 2022 ?\n",
      "Answer: 270\n",
      "Answering question 2: Quel est le pourcentage d'étudiants inscrits dans le domaine des sciences de l'ingénieur (SI) en 2022 ?\n",
      "Answer: En 2022, 9% des étudiants sont inscrits dans le domaine des sciences de l'ingénieur.\n",
      "Answering question 3: Quel était le taux de réussite en Doctorat (PUBLIC) en 2018 ?\n",
      "Answer: Les passages de référence ne fournissent pas le taux de réussite exact en Doctorat (PUBLIC) pour l'année 2018. Ils indiquent qu'entre 2016 et 2020, le taux de réussite pour les doctorats dans les IES publics atteint jusqu'à 95%, et un taux de 97% est mentionné pour les Universités en 2020.\n",
      "Answering question 4: Combien d'étudiants doctorants étaient inscrits à Fianarantsoa en 2019 ?\n",
      "Answer: 87\n",
      "Answering question 5: Quel était le taux de réussite en M1 (PRIVÉ) en 2016 ?\n",
      "Answer: Les passages fournis ne contiennent pas le taux de réussite spécifique en M1 pour les institutions privées en 2016. Le \"Graphe 41\" indique un taux de 92% pour le M1 en \"PRIVE\", mais ce graphe est intitulé \"année 2020\".\n",
      "Answering question 6: Quel était le nombre total d'étudiants féminins inscrits en ENSEMBLE en 2020 ?\n",
      "Answer: Les passages fournis ne contiennent pas d'informations sur le nombre total d'étudiants féminins inscrits en 2020.\n",
      "Answering question 7: Quel est le sujet de la Graphe 28 ?\n",
      "Answer: Les passages fournis ne contiennent aucune information sur le sujet de la Graphe 28.\n",
      "Answering question 8: Quel domaine est représenté par la ligne verte foncée dans la Graphe 25 ?\n",
      "Answer: SSTE\n",
      "Answering question 9: Quelle est la source du Tableau 02 ?\n",
      "Answer: Les passages fournis ne contiennent aucune information sur la source du Tableau 02.\n",
      "Answering question 10: Que présente la Graphe 46 ?\n",
      "Answer: Les passages fournis ne contiennent aucune information concernant le Graphe 46. Ils s'arrêtent au Graphe 15.\n",
      "Answering question 11: Combien d'étudiants étaient inscrits en M1 en 2022 ?\n",
      "Answer: Les passages fournis sont pertinents uniquement pour les inscrits et admis au baccalauréat et ne contiennent aucune information sur les étudiants inscrits en M1 en 2022.\n",
      "Answering question 12: Quel était le nombre total d'étudiants étrangers inscrits dans le public en 2022 ?\n",
      "Answer: 485\n",
      "Answering question 13: Quel était le nombre total d'étudiants étrangers inscrits dans le privé en 2019 ?\n",
      "Answer: En 2019, le nombre total d'étudiants étrangers inscrits dans le privé était de 2 214.\n",
      "Answering question 14: Quel était le taux de réussite en L3 (PRIVÉ) en 2016 ?\n",
      "Answer: Les passages fournis ne contiennent pas d'informations sur le taux de réussite en L3 (PRIVÉ) pour l'année 2016. Le taux de réussite en L3 pour le secteur privé est mentionné comme étant de 93% pour l'année 2020, mais pas pour 2016.\n",
      "Answering question 15: Combien d'enseignants permanents avaient entre 55 et 60 ans en 2019 ?\n",
      "Answer: 231\n",
      "Answering question 16: Que représente la Graphe 19 ?\n",
      "Answer: Les passages fournis ne contiennent aucune information sur la Graphe 19.\n",
      "Answering question 17: Combien d'enseignants permanents de grade P travaillaient en 2022 ?\n",
      "Answer: Les passages fournis ne contiennent pas d'informations sur le nombre d'enseignants permanents de grade P en 2022.\n",
      "Answering question 18: Quel est le nombre d'étudiants boursiers masculins à Toliara en 2022 d'après la Graphe 24 ?\n",
      "Answer: 4 406\n",
      "Answering question 19: Quelle est la source du Tableau 18 ?\n",
      "Answer: Les passages fournis ne contiennent pas d'informations sur la source du Tableau 18.\n",
      "Answering question 20: Quel était le nombre total d'étudiants féminins en ENSEMBLE en 2018 ?\n",
      "Answer: Les passages fournis ne contiennent pas d'informations sur le nombre total d'étudiants féminins en ENSEMBLE en 2018. Les données disponibles concernent les enseignants ou la répartition par genre des étudiants boursiers en 2022.\n",
      "Answering question 21: Quel était le nombre d'étudiants inscrits dans la région Vakinankaratra (privé) en 2022 ?\n",
      "Answer: 4 064\n",
      "Answering question 22: Quel est le titre de la Graphe 43 ?\n",
      "Answer: Les passages fournis ne contiennent pas le titre de la Graphe 43.\n",
      "Answering question 23: Combien de PAT étaient inscrits à l'IST en 2020 ?\n",
      "Answer: 170\n",
      "Answering question 24: Quel était le nombre d'enseignants à Fianarantsoa en 2022 ?\n",
      "Answer: 164\n",
      "Answering question 25: Combien d'étudiants comoriens étaient inscrits en 2019 ?\n",
      "Answer: Les passages ne fournissent pas le nombre exact d'étudiants comoriens inscrits en 2019.\n",
      "Answering question 26: Quel était le nombre d'enseignants permanents de 45 à 50 ans en 2020 ?\n",
      "Answer: 206\n",
      "Answering question 27: Quel était le taux de réussite en Doctorat (PRIVÉ) en 2018 ?\n",
      "Answer: Entre 2016 et 2020, le taux de réussite aux doctorats pour les institutions d'enseignement supérieur (IES) privées atteint 100%.\n",
      "Answering question 28: Sur quelle période porte le Tableau 02 ?\n",
      "Answer: Les passages fournis sont irrelevants pour répondre à la question concernant le Tableau 02.\n",
      "Answering question 29: Quel est le nombre d'enseignants vacataires féminins à Fianarantsoa en 2022 ?\n",
      "Answer: 156\n",
      "Answering question 30: Quelle est la signification de \"CNTEMAD\" ?\n",
      "Answer: Centre National du Télé Enseignement de Madagascar\n",
      "Answering question 31: Quel était le ratio \"étudiants / PE\" en 2020 d'après la Graphe 48 ?\n",
      "Answer: D'après le Tableau 31, qui détaille l'évolution des ratios \"ETU/PE\" et dont les données sont représentées graphiquement pour l'ensemble, le ratio \"étudiants / PE\" pour l'année 2020 était de 69.\n",
      "Answering question 32: Quelle est la source du Tableau 22 ?\n",
      "Answer: Les passages fournis ne contiennent pas d'informations sur le Tableau 22.\n",
      "Answering question 33: D'après le texte descriptif de la Graphe 25. quelle est la proportion des enseignants permanents dans le domaine des sciences de la société ?\n",
      "Answer: Les domaines des sciences de la société concentrent 15% des enseignants permanents.\n",
      "Answering question 34: Combien d'enseignants étaient inscrits à Toamasina en 2022 ?\n",
      "Answer: 79\n",
      "Answering question 35: Combien d'étudiants boursiers étaient inscrits à Toamasina en 2017 ?\n",
      "Answer: Les passages fournis ne contiennent aucune information sur le nombre d'étudiants boursiers inscrits à Toamasina en 2017. Ils détaillent uniquement le nombre total d'étudiants inscrits.\n",
      "Answering question 36: Quel était le nombre de diplômés du secteur public en 2016 d'après la Graphe 42 ?\n",
      "Answer: Les passages fournis ne contiennent pas de \"Graphe 42\" et ne donnent pas d'informations sur le nombre de diplômés du secteur public en 2016.\n",
      "Answering question 37: Quel était le nombre d'enseignants à Toamasina en 2017 ?\n",
      "Answer: En 2017, le nombre d'enseignants à Toamasina était de 100.\n",
      "Answering question 38: Quel est le titre du Tableau 08 ?\n",
      "Answer: Les passages fournis ne contiennent aucune information sur le \"Tableau 08\".\n",
      "Answering question 39: Combien d'étudiants comoriens étaient inscrits en 2022 ?\n",
      "Answer: Les passages indiquent que plus de 70 % des étudiants étrangers en 2022 sont des Comoriens, mais ne fournissent pas le nombre total d'étudiants étrangers ni le nombre total d'étudiants comoriens inscrits.\n",
      "Answering question 40: D'après le texte descriptif de la Graphe 36. quelle université présente le taux le plus bas ?\n",
      "Answer: L’Université d’Antsiranana.\n",
      "✅ Results written to submission_file.csv\n"
     ]
    }
   ],
   "source": [
    "process_questions_from_csv(db, './questions.csv')"
   ]
  },
  {
   "cell_type": "code",
   "execution_count": null,
   "id": "d4e315d4-613f-4b98-9d8a-a30e3a55b378",
   "metadata": {},
   "outputs": [],
   "source": []
  }
 ],
 "metadata": {
  "kernelspec": {
   "display_name": "Python 3 (ipykernel)",
   "language": "python",
   "name": "python3"
  },
  "language_info": {
   "codemirror_mode": {
    "name": "ipython",
    "version": 3
   },
   "file_extension": ".py",
   "mimetype": "text/x-python",
   "name": "python",
   "nbconvert_exporter": "python",
   "pygments_lexer": "ipython3",
   "version": "3.11.0"
  }
 },
 "nbformat": 4,
 "nbformat_minor": 5
}
